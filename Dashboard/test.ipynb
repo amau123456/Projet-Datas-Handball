{
 "cells": [
  {
   "cell_type": "code",
   "execution_count": 1,
   "metadata": {},
   "outputs": [],
   "source": [
    "import pandas as pd\n",
    "import pymysql\n"
   ]
  },
  {
   "cell_type": "code",
   "execution_count": 2,
   "metadata": {},
   "outputs": [
    {
     "name": "stderr",
     "output_type": "stream",
     "text": [
      "C:\\Users\\chauv\\anaconda3\\lib\\site-packages\\pandas\\io\\sql.py:761: UserWarning: pandas only support SQLAlchemy connectable(engine/connection) ordatabase string URI or sqlite3 DBAPI2 connectionother DBAPI2 objects are not tested, please consider using SQLAlchemy\n",
      "  warnings.warn(\n"
     ]
    }
   ],
   "source": [
    "connection = pymysql.connect(host='localhost', user='root', passwd='1234', database='projet-hand')\n",
    "\n",
    "SQL_Query = pd.read_sql_query('''select * from matchs''', connection)\n",
    "df_db_match = pd.DataFrame(SQL_Query)\n",
    "\n",
    "connection.close()"
   ]
  },
  {
   "cell_type": "code",
   "execution_count": 3,
   "metadata": {},
   "outputs": [
    {
     "name": "stdout",
     "output_type": "stream",
     "text": [
      "89 HBPC - Nice\n",
      "88 HBPC - Lyon\n",
      "86 HBPC - Nantes\n",
      "87 HBPC - Marseille\n",
      "84 Lille - HBPC\n",
      "85 HBPC - Aix-en-Provence\n"
     ]
    }
   ],
   "source": [
    "liste_matchs = []\n",
    "\n",
    "for i in range (len(df_db_match['id_match'])):\n",
    "\n",
    "    id = df_db_match['id_match'].loc[i]\n",
    "\n",
    "    if df_db_match['Domicile'].loc[i] == \"Dom\":\n",
    "        intitule_match = \"HBPC - \"+str(df_db_match['Club_adverse'].loc[i])    \n",
    "        liste_matchs.append([id, intitule_match])\n",
    "        print(id, intitule_match)\n",
    "    else:\n",
    "        intitule_match = str(df_db_match['Club_adverse'].loc[i])+\" - HBPC\"\n",
    "        liste_matchs.append([id, intitule_match])\n",
    "        print(id, intitule_match)\n"
   ]
  },
  {
   "cell_type": "code",
   "execution_count": 4,
   "metadata": {},
   "outputs": [
    {
     "name": "stdout",
     "output_type": "stream",
     "text": [
      "[[89, 'HBPC - Nice'], [88, 'HBPC - Lyon'], [86, 'HBPC - Nantes'], [87, 'HBPC - Marseille'], [84, 'Lille - HBPC'], [85, 'HBPC - Aix-en-Provence']]\n"
     ]
    }
   ],
   "source": [
    "print(liste_matchs)"
   ]
  }
 ],
 "metadata": {
  "interpreter": {
   "hash": "1c3a6d45aa004cb4cf65c334f1f1bbf2fc62de6026f72564701b7ba4645fed2e"
  },
  "kernelspec": {
   "display_name": "Python 3.8.12 ('base')",
   "language": "python",
   "name": "python3"
  },
  "language_info": {
   "codemirror_mode": {
    "name": "ipython",
    "version": 3
   },
   "file_extension": ".py",
   "mimetype": "text/x-python",
   "name": "python",
   "nbconvert_exporter": "python",
   "pygments_lexer": "ipython3",
   "version": "3.8.12"
  },
  "orig_nbformat": 4
 },
 "nbformat": 4,
 "nbformat_minor": 2
}
